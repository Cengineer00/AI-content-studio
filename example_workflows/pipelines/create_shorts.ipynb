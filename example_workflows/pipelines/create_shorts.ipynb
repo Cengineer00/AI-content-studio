{
 "cells": [
  {
   "cell_type": "markdown",
   "metadata": {},
   "source": [
    "# Shorts Maker"
   ]
  },
  {
   "cell_type": "markdown",
   "metadata": {},
   "source": [
    "#### From two raw videos:\n",
    "1. Call ShortsFusion to merge them,\n",
    "2. Call Transcriber to create subtitles,\n",
    "3. Call SubtitleStyler to apply subtitles."
   ]
  },
  {
   "cell_type": "code",
   "execution_count": 1,
   "metadata": {},
   "outputs": [],
   "source": [
    "# Environment Setup\n",
    "%load_ext autoreload\n",
    "%autoreload 2\n",
    "import sys\n",
    "sys.path.append('../..')  # Add project root to path"
   ]
  },
  {
   "cell_type": "markdown",
   "metadata": {},
   "source": [
    "## Imports"
   ]
  },
  {
   "cell_type": "code",
   "execution_count": 2,
   "metadata": {},
   "outputs": [
    {
     "name": "stderr",
     "output_type": "stream",
     "text": [
      "/home/ckaradeniz/miniconda3/envs/VU/lib/python3.10/site-packages/tqdm/auto.py:21: TqdmWarning: IProgress not found. Please update jupyter and ipywidgets. See https://ipywidgets.readthedocs.io/en/stable/user_install.html\n",
      "  from .autonotebook import tqdm as notebook_tqdm\n"
     ]
    }
   ],
   "source": [
    "from content_creation_tools.utils.shorts_fusion import merge_videos\n",
    "from content_creation_tools.models.transcriber import FasterWhisper\n",
    "from content_creation_tools.models.subtitle_styler import SubtitleStyler"
   ]
  },
  {
   "cell_type": "markdown",
   "metadata": {},
   "source": [
    "## ShortsFusion\n",
    "\n",
    "Merge two videos"
   ]
  },
  {
   "cell_type": "code",
   "execution_count": 3,
   "metadata": {},
   "outputs": [],
   "source": [
    "video1_path = '../../examples/shorts_test.mp4'\n",
    "video2_path = '../../examples/shorts_test.mp4'\n",
    "\n",
    "output_path = '../../examples/shorts_fusion.mp4'"
   ]
  },
  {
   "cell_type": "code",
   "execution_count": null,
   "metadata": {},
   "outputs": [
    {
     "name": "stdout",
     "output_type": "stream",
     "text": [
      "{'video_found': True, 'audio_found': True, 'metadata': {'major_brand': 'mp42', 'minor_version': '0', 'compatible_brands': 'isommp42', 'creation_time': '2025-01-16T16:45:33.000000Z', 'encoder': 'Google'}, 'inputs': [{'streams': [{'input_number': 0, 'stream_number': 0, 'stream_type': 'video', 'language': None, 'default': True, 'size': [360, 640], 'bitrate': 328, 'fps': 30.0, 'codec_name': 'h264', 'profile': '(Main)', 'metadata': {'Metadata': '', 'creation_time': '2025-01-16T16:45:33.000000Z', 'handler_name': 'ISO Media file produced by Google Inc. Created on: 01/16/2025.', 'vendor_id': '[0][0][0][0]'}}, {'input_number': 0, 'stream_number': 1, 'stream_type': 'audio', 'language': None, 'default': True, 'fps': 44100, 'bitrate': 48, 'metadata': {'Metadata': '', 'creation_time': '2025-01-16T16:45:33.000000Z', 'handler_name': 'ISO Media file produced by Google Inc. Created on: 01/16/2025.', 'vendor_id': '[0][0][0][0]'}}], 'input_number': 0}], 'duration': 16.16, 'bitrate': 377, 'start': 0.0, 'default_video_input_number': 0, 'default_video_stream_number': 0, 'video_codec_name': 'h264', 'video_profile': '(Main)', 'video_size': [360, 640], 'video_bitrate': 328, 'video_fps': 30.0, 'default_audio_input_number': 0, 'default_audio_stream_number': 1, 'audio_fps': 44100, 'audio_bitrate': 48, 'video_duration': 16.16, 'video_n_frames': 484}\n",
      "/home/ckaradeniz/miniconda3/envs/VU/lib/python3.10/site-packages/imageio_ffmpeg/binaries/ffmpeg-linux-x86_64-v7.0.2 -i ../../examples/shorts_test.mp4 -loglevel error -f image2pipe -vf scale=360:640 -sws_flags bicubic -pix_fmt rgb24 -vcodec rawvideo -\n",
      "{'video_found': True, 'audio_found': True, 'metadata': {'major_brand': 'mp42', 'minor_version': '0', 'compatible_brands': 'isommp42', 'creation_time': '2025-01-16T16:45:33.000000Z', 'encoder': 'Google'}, 'inputs': [{'streams': [{'input_number': 0, 'stream_number': 0, 'stream_type': 'video', 'language': None, 'default': True, 'size': [360, 640], 'bitrate': 328, 'fps': 30.0, 'codec_name': 'h264', 'profile': '(Main)', 'metadata': {'Metadata': '', 'creation_time': '2025-01-16T16:45:33.000000Z', 'handler_name': 'ISO Media file produced by Google Inc. Created on: 01/16/2025.', 'vendor_id': '[0][0][0][0]'}}, {'input_number': 0, 'stream_number': 1, 'stream_type': 'audio', 'language': None, 'default': True, 'fps': 44100, 'bitrate': 48, 'metadata': {'Metadata': '', 'creation_time': '2025-01-16T16:45:33.000000Z', 'handler_name': 'ISO Media file produced by Google Inc. Created on: 01/16/2025.', 'vendor_id': '[0][0][0][0]'}}], 'input_number': 0}], 'duration': 16.16, 'bitrate': 377, 'start': 0.0, 'default_video_input_number': 0, 'default_video_stream_number': 0, 'video_codec_name': 'h264', 'video_profile': '(Main)', 'video_size': [360, 640], 'video_bitrate': 328, 'video_fps': 30.0, 'default_audio_input_number': 0, 'default_audio_stream_number': 1, 'audio_fps': 44100, 'audio_bitrate': 48, 'video_duration': 16.16, 'video_n_frames': 484}\n",
      "/home/ckaradeniz/miniconda3/envs/VU/lib/python3.10/site-packages/imageio_ffmpeg/binaries/ffmpeg-linux-x86_64-v7.0.2 -i ../../examples/shorts_test.mp4 -loglevel error -f image2pipe -vf scale=360:640 -sws_flags bicubic -pix_fmt rgb24 -vcodec rawvideo -\n",
      "{'video_found': True, 'audio_found': True, 'metadata': {'major_brand': 'isom', 'minor_version': '512', 'compatible_brands': 'isomiso2avc1mp41', 'encoder': 'Lavf61.1.100'}, 'inputs': [{'streams': [{'input_number': 0, 'stream_number': 0, 'stream_type': 'video', 'language': None, 'default': True, 'size': [270, 960], 'bitrate': 324, 'fps': 25.0, 'codec_name': 'h264', 'profile': '(High)', 'metadata': {'Metadata': '', 'handler_name': 'VideoHandler', 'vendor_id': '[0][0][0][0]', 'encoder': 'Lavc61.3.100 libx264'}}, {'input_number': 0, 'stream_number': 1, 'stream_type': 'audio', 'language': None, 'default': True, 'fps': 44100, 'bitrate': 193, 'metadata': {'Metadata': '', 'handler_name': 'SoundHandler', 'vendor_id': '[0][0][0][0]'}}], 'input_number': 0}], 'duration': 4.2, 'bitrate': 527, 'start': 0.0, 'default_video_input_number': 0, 'default_video_stream_number': 0, 'video_codec_name': 'h264', 'video_profile': '(High)', 'video_size': [270, 960], 'video_bitrate': 324, 'video_fps': 25.0, 'default_audio_input_number': 0, 'default_audio_stream_number': 1, 'audio_fps': 44100, 'audio_bitrate': 193, 'video_duration': 4.2, 'video_n_frames': 105}\n",
      "/home/ckaradeniz/miniconda3/envs/VU/lib/python3.10/site-packages/imageio_ffmpeg/binaries/ffmpeg-linux-x86_64-v7.0.2 -i /tmp/tmpp6cow7t9/output.mp4 -loglevel error -f image2pipe -vf scale=270:960 -sws_flags bicubic -pix_fmt rgb24 -vcodec rawvideo -\n",
      "{'video_found': True, 'audio_found': True, 'metadata': {'major_brand': 'isom', 'minor_version': '512', 'compatible_brands': 'isomiso2avc1mp41', 'encoder': 'Lavf61.1.100'}, 'inputs': [{'streams': [{'input_number': 0, 'stream_number': 0, 'stream_type': 'video', 'language': None, 'default': True, 'size': [270, 960], 'bitrate': 324, 'fps': 25.0, 'codec_name': 'h264', 'profile': '(High)', 'metadata': {'Metadata': '', 'handler_name': 'VideoHandler', 'vendor_id': '[0][0][0][0]', 'encoder': 'Lavc61.3.100 libx264'}}, {'input_number': 0, 'stream_number': 1, 'stream_type': 'audio', 'language': None, 'default': True, 'fps': 44100, 'bitrate': 193, 'metadata': {'Metadata': '', 'handler_name': 'SoundHandler', 'vendor_id': '[0][0][0][0]'}}], 'input_number': 0}], 'duration': 4.2, 'bitrate': 527, 'start': 0.0, 'default_video_input_number': 0, 'default_video_stream_number': 0, 'video_codec_name': 'h264', 'video_profile': '(High)', 'video_size': [270, 960], 'video_bitrate': 324, 'video_fps': 25.0, 'default_audio_input_number': 0, 'default_audio_stream_number': 1, 'audio_fps': 44100, 'audio_bitrate': 193, 'video_duration': 4.2, 'video_n_frames': 105}\n",
      "/home/ckaradeniz/miniconda3/envs/VU/lib/python3.10/site-packages/imageio_ffmpeg/binaries/ffmpeg-linux-x86_64-v7.0.2 -i /tmp/tmpuerim33f/output.mp4 -loglevel error -f image2pipe -vf scale=270:960 -sws_flags bicubic -pix_fmt rgb24 -vcodec rawvideo -\n",
      "MoviePy - Building video ../../examples/shorts_fusion.mp4.\n",
      "MoviePy - Writing audio in shorts_fusionTEMP_MPY_wvf_snd.mp4\n"
     ]
    },
    {
     "name": "stderr",
     "output_type": "stream",
     "text": [
      "                                                       \r"
     ]
    },
    {
     "name": "stdout",
     "output_type": "stream",
     "text": [
      "MoviePy - Done.\n",
      "MoviePy - Writing video ../../examples/shorts_fusion.mp4\n",
      "\n"
     ]
    },
    {
     "name": "stderr",
     "output_type": "stream",
     "text": [
      "                                                                        \r"
     ]
    },
    {
     "name": "stdout",
     "output_type": "stream",
     "text": [
      "MoviePy - Done !\n",
      "MoviePy - video ready ../../examples/shorts_fusion.mp4\n"
     ]
    }
   ],
   "source": [
    "\n",
    "merge_videos(\n",
    "    video1_path=video1_path,\n",
    "    video2_path=video2_path,\n",
    "    t1_start=0, t1_end=5,\n",
    "    t2_start=0, t2_end=5,\n",
    "    output_path=output_path,\n",
    "    line_color=(255, 0, 0),\n",
    "    line_width=5,\n",
    "    speed_factor=1.2,\n",
    "    target_resolution=(1920, 1080)\n",
    ")\n"
   ]
  },
  {
   "cell_type": "markdown",
   "metadata": {},
   "source": [
    "## Transcriber\n",
    "\n",
    "#### Create subtitles file using FasterWhisper"
   ]
  },
  {
   "cell_type": "markdown",
   "metadata": {},
   "source": [
    "Set Parameters:"
   ]
  },
  {
   "cell_type": "code",
   "execution_count": 4,
   "metadata": {},
   "outputs": [
    {
     "name": "stdout",
     "output_type": "stream",
     "text": [
      "\n",
      "FasterWhisper Parameters:\n",
      "Parameter            Type            Description                    Default   \n",
      "model_size_or_path   str             Size of the model to use, a path to a converted model directory, or a CTranslate2-converted Whisper model ID from the HF Hub. medium    \n",
      "device               str             Device to use for computation (\"cpu\", \"cuda\", \"auto\"). auto      \n",
      "language             str             The language spoken in the audio such as \"en\" or \"fr\". If not set, the language will be detected in the first 30 seconds of audio. tr        \n",
      "log_progress         bool            Whether to log progress to the console. False     \n",
      "max_initial_timestamp float           The initial timestamp cannot be later than this. 10        \n",
      "max_chars_per_line   int             Maximum number of characters per line in the subtitles. 20        \n",
      "\n",
      "{'log_progress': True, 'model_size_or_path': 'medium', 'device': 'auto', 'language': 'tr', 'max_initial_timestamp': 10, 'max_chars_per_line': 20}\n"
     ]
    }
   ],
   "source": [
    "faster_whisper = FasterWhisper()\n",
    "\n",
    "print(faster_whisper.get_parameter_help())\n",
    "set_params = {'log_progress': True}\n",
    "\n",
    "params = faster_whisper.validate_parameters(set_params)\n",
    "print(params)"
   ]
  },
  {
   "cell_type": "code",
   "execution_count": 5,
   "metadata": {},
   "outputs": [],
   "source": [
    "from content_creation_tools.utils import extract_audio, write_srt_file"
   ]
  },
  {
   "cell_type": "code",
   "execution_count": 6,
   "metadata": {},
   "outputs": [
    {
     "name": "stdout",
     "output_type": "stream",
     "text": [
      "{'video_found': True, 'audio_found': True, 'metadata': {'major_brand': 'isom', 'minor_version': '512', 'compatible_brands': 'isomiso2avc1mp41', 'encoder': 'Lavf61.1.100'}, 'inputs': [{'streams': [{'input_number': 0, 'stream_number': 0, 'stream_type': 'video', 'language': None, 'default': True, 'size': [270, 1920], 'bitrate': 594, 'fps': 25.0, 'codec_name': 'h264', 'profile': '(High)', 'metadata': {'Metadata': '', 'handler_name': 'VideoHandler', 'vendor_id': '[0][0][0][0]', 'encoder': 'Lavc61.3.100 libx264'}}, {'input_number': 0, 'stream_number': 1, 'stream_type': 'audio', 'language': None, 'default': True, 'fps': 44100, 'bitrate': 128, 'metadata': {'Metadata': '', 'handler_name': 'SoundHandler', 'vendor_id': '[0][0][0][0]'}}], 'input_number': 0}], 'duration': 4.2, 'bitrate': 733, 'start': 0.0, 'default_video_input_number': 0, 'default_video_stream_number': 0, 'video_codec_name': 'h264', 'video_profile': '(High)', 'video_size': [270, 1920], 'video_bitrate': 594, 'video_fps': 25.0, 'default_audio_input_number': 0, 'default_audio_stream_number': 1, 'audio_fps': 44100, 'audio_bitrate': 128, 'video_duration': 4.2, 'video_n_frames': 105}\n",
      "/home/ckaradeniz/miniconda3/envs/VU/lib/python3.10/site-packages/imageio_ffmpeg/binaries/ffmpeg-linux-x86_64-v7.0.2 -i ../../examples/shorts_fusion.mp4 -loglevel error -f image2pipe -vf scale=270:1920 -sws_flags bicubic -pix_fmt rgb24 -vcodec rawvideo -\n",
      "MoviePy - Writing audio in ../../examples/shorts_fusion_audio.mp3\n"
     ]
    },
    {
     "name": "stderr",
     "output_type": "stream",
     "text": [
      "                                                       "
     ]
    },
    {
     "name": "stdout",
     "output_type": "stream",
     "text": [
      "MoviePy - Done.\n",
      "Successfully extracted audio to: ../../examples/shorts_fusion_audio.mp3\n"
     ]
    },
    {
     "name": "stderr",
     "output_type": "stream",
     "text": [
      "\r"
     ]
    }
   ],
   "source": [
    "output_audio_path = extract_audio(output_path)\n"
   ]
  },
  {
   "cell_type": "code",
   "execution_count": null,
   "metadata": {},
   "outputs": [
    {
     "name": "stdout",
     "output_type": "stream",
     "text": [
      "╭─ Initializing the model...\n",
      "Parameters: {'log_progress': True, 'model_size_or_path': 'medium', 'device': 'auto', 'language': 'tr', 'max_initial_timestamp': 10, 'max_chars_per_line': 20}\n"
     ]
    },
    {
     "name": "stderr",
     "output_type": "stream",
     "text": [
      "[2025-03-28 10:23:19.186] [ctranslate2] [thread 18239] [warning] The compute type inferred from the saved model is float16, but the target device or backend do not support efficient float16 computation. The model weights have been automatically converted to use the float32 compute type instead.\n"
     ]
    },
    {
     "name": "stdout",
     "output_type": "stream",
     "text": [
      "╭─ Transcribing the audio...\n"
     ]
    },
    {
     "name": "stderr",
     "output_type": "stream",
     "text": [
      "100%|██████████| 4.2/4.2 [00:26<00:00,  6.32s/seconds]\n"
     ]
    }
   ],
   "source": [
    "merged_segments = faster_whisper.generate(params, output_audio_path)\n",
    "# write_srt_file(merged_segments, output_audio_path.replace('.mp3', '.srt'))\n"
   ]
  },
  {
   "cell_type": "markdown",
   "metadata": {},
   "source": [
    "## Subtitle Styler\n",
    "\n",
    "#### Apply subtitles to the merged video using SubtitleStyler"
   ]
  },
  {
   "cell_type": "code",
   "execution_count": 8,
   "metadata": {},
   "outputs": [
    {
     "name": "stdout",
     "output_type": "stream",
     "text": [
      "\n",
      "SubtitleStyler Parameters:\n",
      "Parameter            Type            Description                    Default   \n",
      "font                 str             Font name (e.g., \"Arial-Bold\"). Arial_Bold\n",
      "font_size            int             Font size.                     14        \n",
      "color                str             Text color (hex or name).      white     \n",
      "bg_color             tuple           Background color (RGB).        (0, 0, 0) \n",
      "bg_opacity           float           Background opacity (0.0 to 1.0). 0.6       \n",
      "stroke_color         str             Text stroke/border color.      red       \n",
      "stroke_width         int             Stroke width.                  1         \n",
      "position             tuple           Text position (e.g., (\"center\", \"bottom\", \"top\")). ('center', 'bottom')\n",
      "padding              tuple           Background padding (horizontal, vertical). (10, 5)   \n",
      "\n",
      "{'font_size': 30, 'font': 'Arial_Bold', 'color': 'white', 'bg_color': (0, 0, 0), 'bg_opacity': 0.6, 'stroke_color': 'red', 'stroke_width': 1, 'position': ('center', 'bottom'), 'padding': (10, 5)}\n"
     ]
    }
   ],
   "source": [
    "sub_styler = SubtitleStyler()\n",
    "\n",
    "print(sub_styler.get_parameter_help())\n",
    "set_params = {'font_size': 30}\n",
    "\n",
    "params = sub_styler.validate_parameters(set_params)\n",
    "print(params)"
   ]
  },
  {
   "cell_type": "code",
   "execution_count": null,
   "metadata": {},
   "outputs": [
    {
     "name": "stdout",
     "output_type": "stream",
     "text": [
      "{'video_found': True, 'audio_found': True, 'metadata': {'major_brand': 'isom', 'minor_version': '512', 'compatible_brands': 'isomiso2avc1mp41', 'encoder': 'Lavf61.1.100'}, 'inputs': [{'streams': [{'input_number': 0, 'stream_number': 0, 'stream_type': 'video', 'language': None, 'default': True, 'size': [270, 1920], 'bitrate': 594, 'fps': 25.0, 'codec_name': 'h264', 'profile': '(High)', 'metadata': {'Metadata': '', 'handler_name': 'VideoHandler', 'vendor_id': '[0][0][0][0]', 'encoder': 'Lavc61.3.100 libx264'}}, {'input_number': 0, 'stream_number': 1, 'stream_type': 'audio', 'language': None, 'default': True, 'fps': 44100, 'bitrate': 128, 'metadata': {'Metadata': '', 'handler_name': 'SoundHandler', 'vendor_id': '[0][0][0][0]'}}], 'input_number': 0}], 'duration': 4.2, 'bitrate': 733, 'start': 0.0, 'default_video_input_number': 0, 'default_video_stream_number': 0, 'video_codec_name': 'h264', 'video_profile': '(High)', 'video_size': [270, 1920], 'video_bitrate': 594, 'video_fps': 25.0, 'default_audio_input_number': 0, 'default_audio_stream_number': 1, 'audio_fps': 44100, 'audio_bitrate': 128, 'video_duration': 4.2, 'video_n_frames': 105}\n",
      "/home/ckaradeniz/miniconda3/envs/VU/lib/python3.10/site-packages/imageio_ffmpeg/binaries/ffmpeg-linux-x86_64-v7.0.2 -i ../../examples/shorts_fusion.mp4 -loglevel error -f image2pipe -vf scale=270:1920 -sws_flags bicubic -pix_fmt rgb24 -vcodec rawvideo -\n"
     ]
    }
   ],
   "source": [
    "final_video = sub_styler.generate(\n",
    "    params=params,\n",
    "    subtitles=merged_segments,\n",
    "    video_path=output_path,\n",
    ")"
   ]
  },
  {
   "cell_type": "code",
   "execution_count": 10,
   "metadata": {},
   "outputs": [
    {
     "name": "stdout",
     "output_type": "stream",
     "text": [
      "MoviePy - Building video ../../examples/shorts_fusion_result.mp4.\n",
      "MoviePy - Writing audio in shorts_fusion_resultTEMP_MPY_wvf_snd.mp3\n"
     ]
    },
    {
     "name": "stderr",
     "output_type": "stream",
     "text": [
      "                                                       \r"
     ]
    },
    {
     "name": "stdout",
     "output_type": "stream",
     "text": [
      "MoviePy - Done.\n",
      "MoviePy - Writing video ../../examples/shorts_fusion_result.mp4\n",
      "\n"
     ]
    },
    {
     "name": "stderr",
     "output_type": "stream",
     "text": [
      "                                                                        \r"
     ]
    },
    {
     "name": "stdout",
     "output_type": "stream",
     "text": [
      "MoviePy - Done !\n",
      "MoviePy - video ready ../../examples/shorts_fusion_result.mp4\n"
     ]
    }
   ],
   "source": [
    "\n",
    "final_video.write_videofile(output_path.replace('.mp4', '_result.mp4'), fps=final_video.fps, codec=\"libx264\")"
   ]
  }
 ],
 "metadata": {
  "kernelspec": {
   "display_name": "VU",
   "language": "python",
   "name": "python3"
  },
  "language_info": {
   "codemirror_mode": {
    "name": "ipython",
    "version": 3
   },
   "file_extension": ".py",
   "mimetype": "text/x-python",
   "name": "python",
   "nbconvert_exporter": "python",
   "pygments_lexer": "ipython3",
   "version": "3.10.14"
  }
 },
 "nbformat": 4,
 "nbformat_minor": 2
}
