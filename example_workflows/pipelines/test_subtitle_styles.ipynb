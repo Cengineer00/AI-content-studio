{
 "cells": [
  {
   "cell_type": "code",
   "execution_count": 1,
   "metadata": {},
   "outputs": [],
   "source": [
    "from moviepy import VideoFileClip, TextClip, CompositeVideoClip, ColorClip\n"
   ]
  },
  {
   "cell_type": "markdown",
   "metadata": {},
   "source": [
    "#### Subtitle styles"
   ]
  },
  {
   "cell_type": "code",
   "execution_count": 17,
   "metadata": {},
   "outputs": [],
   "source": [
    "style_presets = {\n",
    "    \"minimalist_modern\": {\n",
    "        \"font\": \"Helvetica-Bold\",\n",
    "        \"fontsize\": 28,\n",
    "        \"color\": \"#FFFFFF\",\n",
    "        \"bg_color\": (0, 0, 0),\n",
    "        \"bg_opacity\": 0.7,\n",
    "        \"stroke_color\": None,\n",
    "        \"stroke_width\": 0,\n",
    "        \"padding\": (20, 10),\n",
    "        \"position\": (\"center\", 0.85),\n",
    "        \"method\": \"caption\"\n",
    "    },\n",
    "    \"cinematic\": {\n",
    "        \"font\": \"Impact\",\n",
    "        \"fontsize\": 32,\n",
    "        \"color\": \"#FFD700\",\n",
    "        \"bg_color\": (20, 20, 20),\n",
    "        \"bg_opacity\": 0.9,\n",
    "        \"stroke_color\": \"#2A2A2A\",\n",
    "        \"stroke_width\": 1.5,\n",
    "        \"padding\": (30, 15),\n",
    "        \"position\": (\"center\", 0.9)\n",
    "    },\n",
    "    \"fun_casual\": {\n",
    "        \"font\": \"Comic-Sans-MS-Bold\",\n",
    "        \"fontsize\": 26,\n",
    "        \"color\": \"#FFFFFF\",\n",
    "        \"bg_color\": (255, 105, 180),\n",
    "        \"bg_opacity\": 0.8,\n",
    "        \"stroke_color\": \"#FFFFFF\",\n",
    "        \"stroke_width\": 2,\n",
    "        \"padding\": (15, 8),\n",
    "        \"position\": (\"center\", 0.1)\n",
    "    },\n",
    "    \"corporate\": {\n",
    "        \"font\": \"Verdana\",\n",
    "        \"fontsize\": 24,\n",
    "        \"color\": \"#2C3E50\",\n",
    "        \"bg_color\": (236, 240, 241),\n",
    "        \"bg_opacity\": 0.95,\n",
    "        \"stroke_color\": \"#BDC3C7\",\n",
    "        \"stroke_width\": 1,\n",
    "        \"padding\": (25, 12),\n",
    "        \"position\": (\"center\", \"bottom\"),\n",
    "        \"box_margin\": (0, 40)\n",
    "    },\n",
    "    \"high_contrast\": {\n",
    "        \"font\": \"Arial-Black\",\n",
    "        \"fontsize\": 30,\n",
    "        \"color\": \"#000000\",\n",
    "        \"bg_color\": (255, 255, 0),\n",
    "        \"bg_opacity\": 0.9,\n",
    "        \"stroke_color\": \"#FFFFFF\",\n",
    "        \"stroke_width\": 3,\n",
    "        \"padding\": (20, 15),\n",
    "        \"position\": (\"center\", 0.8)\n",
    "    },\n",
    "    \"transparent_overlay\": {\n",
    "        \"font\": \"Impact\",\n",
    "        \"fontsize\": 34,\n",
    "        \"color\": \"#FFFFFF\",\n",
    "        \"bg_color\": (50, 50, 50),\n",
    "        \"bg_opacity\": 0.6,\n",
    "        \"stroke_color\": \"#000000\",\n",
    "        \"stroke_width\": 1.2,\n",
    "        \"padding\": (25, 12),\n",
    "        \"position\": (\"center\", \"bottom\")\n",
    "    },\n",
    "    \"my_custom_style\": {\n",
    "        \"font\": \"Arial_Bold\",\n",
    "        \"fontsize\": 14,\n",
    "        \"color\": \"white\",\n",
    "        \"bg_color\": (0, 0, 0),\n",
    "        \"bg_opacity\": 0.6,\n",
    "        \"stroke_color\": \"red\",\n",
    "        \"stroke_width\": 1,\n",
    "        \"padding\": (10, 5),\n",
    "        \"position\": (\"center\", \"bottom\")\n",
    "    }\n",
    "}"
   ]
  },
  {
   "cell_type": "markdown",
   "metadata": {},
   "source": [
    "#### Create subtitle style applied video"
   ]
  },
  {
   "cell_type": "code",
   "execution_count": 16,
   "metadata": {},
   "outputs": [],
   "source": [
    "VIDEO_SIZE = (1080, 1920)  # Width, Height\n",
    "demo_text = \"This is sample subtitle text\\nwith line breaks\"\n",
    "\n",
    "def create_style_demo(style, bg_config):\n",
    "    \"\"\"Create demo video for one style on one background\"\"\"\n",
    "    # Create background\n",
    "    bg_clip = ColorClip(\n",
    "        size=VIDEO_SIZE,\n",
    "        color=bg_config[\"bg_rgb\"],\n",
    "        duration=bg_config[\"duration\"]\n",
    "    )\n",
    "    \n",
    "    # Create text clip\n",
    "    txt_clip = TextClip(\n",
    "        font=style[\"font\"],\n",
    "        text=demo_text,\n",
    "        font_size=style[\"fontsize\"],\n",
    "        color=style[\"color\"],\n",
    "        stroke_color=style.get(\"stroke_color\"),\n",
    "        stroke_width=style.get(\"stroke_width\", 0),\n",
    "        size=(int(VIDEO_SIZE[0]*0.9), None),  # 90% of video width\n",
    "        method=\"caption\",\n",
    "        text_align=\"center\",\n",
    "        # kerning=style.get(\"kerning\", 0),\n",
    "        # interline=style.get(\"interline\", 0)\n",
    "    ).with_duration(bg_config[\"duration\"])\n",
    "    \n",
    "    # Add background box if specified\n",
    "    if style.get(\"bg_color\"):\n",
    "        text_w, text_h = txt_clip.size\n",
    "        bg_box = ColorClip(\n",
    "            size=(\n",
    "                text_w + style[\"padding\"][0], \n",
    "                text_h + style[\"padding\"][1]\n",
    "            ),\n",
    "            color=style[\"bg_color\"],\n",
    "            duration=bg_config[\"duration\"]\n",
    "        ).with_opacity(style[\"bg_opacity\"])\n",
    "        \n",
    "        # Composite everything\n",
    "        final = CompositeVideoClip([\n",
    "            bg_clip,\n",
    "            bg_box.with_position(style[\"position\"]),\n",
    "            txt_clip.with_position(style[\"position\"])\n",
    "        ])\n",
    "    else:\n",
    "        final = CompositeVideoClip([\n",
    "            bg_clip,\n",
    "            txt_clip.with_position(style[\"position\"])\n",
    "        ])\n",
    "    \n",
    "    return final"
   ]
  },
  {
   "cell_type": "code",
   "execution_count": 20,
   "metadata": {},
   "outputs": [
    {
     "name": "stdout",
     "output_type": "stream",
     "text": [
      "dict_keys(['minimalist_modern', 'cinematic', 'fun_casual', 'corporate', 'high_contrast', 'transparent_overlay', 'my_custom_style'])\n"
     ]
    }
   ],
   "source": [
    "backgrounds = [\n",
    "    {\"color\": \"white\", \"bg_rgb\": (255, 255, 255), \"duration\": 5},\n",
    "    {\"color\": \"black\", \"bg_rgb\": (0, 0, 0), \"duration\": 5}\n",
    "]\n",
    "\n",
    "print(style_presets.keys())"
   ]
  },
  {
   "cell_type": "code",
   "execution_count": 25,
   "metadata": {},
   "outputs": [
    {
     "name": "stderr",
     "output_type": "stream",
     "text": [
      "frame_index:   2%|▏         | 2/120 [03:50<00:09, 12.99it/s, now=None]"
     ]
    },
    {
     "name": "stdout",
     "output_type": "stream",
     "text": [
      "Generating demo for my_custom_style on white background...\n",
      "MoviePy - Building video subtitle_demos/my_custom_style_white_bg.mp4.\n",
      "MoviePy - Writing video subtitle_demos/my_custom_style_white_bg.mp4\n",
      "\n"
     ]
    },
    {
     "name": "stderr",
     "output_type": "stream",
     "text": [
      "frame_index:   2%|▏         | 2/120 [03:57<00:09, 12.99it/s, now=None]"
     ]
    },
    {
     "name": "stdout",
     "output_type": "stream",
     "text": [
      "MoviePy - Done !\n",
      "MoviePy - video ready subtitle_demos/my_custom_style_white_bg.mp4\n",
      "Saved: subtitle_demos/my_custom_style_white_bg.mp4\n",
      "Generating demo for my_custom_style on black background...\n",
      "MoviePy - Building video subtitle_demos/my_custom_style_black_bg.mp4.\n",
      "MoviePy - Writing video subtitle_demos/my_custom_style_black_bg.mp4\n",
      "\n"
     ]
    },
    {
     "name": "stderr",
     "output_type": "stream",
     "text": [
      "frame_index:   2%|▏         | 2/120 [04:04<00:09, 12.99it/s, now=None]"
     ]
    },
    {
     "name": "stdout",
     "output_type": "stream",
     "text": [
      "MoviePy - Done !\n",
      "MoviePy - video ready subtitle_demos/my_custom_style_black_bg.mp4\n",
      "Saved: subtitle_demos/my_custom_style_black_bg.mp4\n"
     ]
    }
   ],
   "source": [
    "\n",
    "name = \"my_custom_style\"\n",
    "style = style_presets[name]\n",
    "for bg in backgrounds:\n",
    "    print(f\"Generating demo for {name} on {bg['color']} background...\")\n",
    "    # Create demo clip\n",
    "    try:\n",
    "        demo = create_style_demo(style, bg)\n",
    "    except ValueError as e:\n",
    "        print(f\"Error creating demo for {name} on {bg['color']} background: {e}\")\n",
    "        continue\n",
    "    \n",
    "    # Save video\n",
    "    output_path = f\"subtitle_demos/{name}_{bg['color']}_bg.mp4\"\n",
    "    demo.write_videofile(\n",
    "        output_path,\n",
    "        fps=10,\n",
    "        codec=\"libx264\",\n",
    "        threads=4,\n",
    "    )\n",
    "    print(f\"Saved: {output_path}\")"
   ]
  }
 ],
 "metadata": {
  "kernelspec": {
   "display_name": "VU",
   "language": "python",
   "name": "python3"
  },
  "language_info": {
   "codemirror_mode": {
    "name": "ipython",
    "version": 3
   },
   "file_extension": ".py",
   "mimetype": "text/x-python",
   "name": "python",
   "nbconvert_exporter": "python",
   "pygments_lexer": "ipython3",
   "version": "3.10.14"
  }
 },
 "nbformat": 4,
 "nbformat_minor": 2
}
